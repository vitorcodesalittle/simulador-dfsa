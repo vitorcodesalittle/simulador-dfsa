{
 "cells": [
  {
   "cell_type": "code",
   "execution_count": 1,
   "id": "62c73acc",
   "metadata": {},
   "outputs": [
    {
     "ename": "ModuleNotFoundError",
     "evalue": "No module named 'pyplot'",
     "output_type": "error",
     "traceback": [
      "\u001b[0;31m---------------------------------------------------------------------------\u001b[0m",
      "\u001b[0;31mModuleNotFoundError\u001b[0m                       Traceback (most recent call last)",
      "\u001b[0;32m<ipython-input-1-606a24627e06>\u001b[0m in \u001b[0;36m<module>\u001b[0;34m\u001b[0m\n\u001b[0;32m----> 1\u001b[0;31m \u001b[0;32mimport\u001b[0m \u001b[0mpyplot\u001b[0m\u001b[0;34m.\u001b[0m\u001b[0mmatplotlib\u001b[0m \u001b[0;32mas\u001b[0m \u001b[0mplt\u001b[0m\u001b[0;34m\u001b[0m\u001b[0;34m\u001b[0m\u001b[0m\n\u001b[0m\u001b[1;32m      2\u001b[0m \u001b[0mget_ipython\u001b[0m\u001b[0;34m(\u001b[0m\u001b[0;34m)\u001b[0m\u001b[0;34m.\u001b[0m\u001b[0mrun_line_magic\u001b[0m\u001b[0;34m(\u001b[0m\u001b[0;34m'config'\u001b[0m\u001b[0;34m,\u001b[0m \u001b[0;34m'IPCompleter.greedy=True'\u001b[0m\u001b[0;34m)\u001b[0m\u001b[0;34m\u001b[0m\u001b[0;34m\u001b[0m\u001b[0m\n",
      "\u001b[0;31mModuleNotFoundError\u001b[0m: No module named 'pyplot'"
     ]
    }
   ],
   "source": [
    "\n",
    "%config IPCompleter.greedy=True"
   ]
  },
  {
   "cell_type": "code",
   "execution_count": 15,
   "id": "e028959d",
   "metadata": {},
   "outputs": [
    {
     "data": {
      "text/html": [
       "<div>\n",
       "<style scoped>\n",
       "    .dataframe tbody tr th:only-of-type {\n",
       "        vertical-align: middle;\n",
       "    }\n",
       "\n",
       "    .dataframe tbody tr th {\n",
       "        vertical-align: top;\n",
       "    }\n",
       "\n",
       "    .dataframe thead th {\n",
       "        text-align: right;\n",
       "    }\n",
       "</style>\n",
       "<table border=\"1\" class=\"dataframe\">\n",
       "  <thead>\n",
       "    <tr style=\"text-align: right;\">\n",
       "      <th></th>\n",
       "      <th>ntags</th>\n",
       "      <th>estimador</th>\n",
       "      <th>total_collisions_slots</th>\n",
       "      <th>total_empty_slots</th>\n",
       "      <th>total_slots</th>\n",
       "      <th>time</th>\n",
       "    </tr>\n",
       "  </thead>\n",
       "  <tbody>\n",
       "    <tr>\n",
       "      <th>0</th>\n",
       "      <td>100</td>\n",
       "      <td>lb</td>\n",
       "      <td>108.6</td>\n",
       "      <td>72.6</td>\n",
       "      <td>281.2</td>\n",
       "      <td>0.0</td>\n",
       "    </tr>\n",
       "    <tr>\n",
       "      <th>1</th>\n",
       "      <td>200</td>\n",
       "      <td>lb</td>\n",
       "      <td>273.2</td>\n",
       "      <td>137.2</td>\n",
       "      <td>610.4</td>\n",
       "      <td>0.0</td>\n",
       "    </tr>\n",
       "    <tr>\n",
       "      <th>2</th>\n",
       "      <td>300</td>\n",
       "      <td>lb</td>\n",
       "      <td>450.0</td>\n",
       "      <td>214.0</td>\n",
       "      <td>964.0</td>\n",
       "      <td>0.0</td>\n",
       "    </tr>\n",
       "    <tr>\n",
       "      <th>3</th>\n",
       "      <td>400</td>\n",
       "      <td>lb</td>\n",
       "      <td>618.0</td>\n",
       "      <td>282.0</td>\n",
       "      <td>1300.0</td>\n",
       "      <td>0.0</td>\n",
       "    </tr>\n",
       "    <tr>\n",
       "      <th>4</th>\n",
       "      <td>500</td>\n",
       "      <td>lb</td>\n",
       "      <td>828.0</td>\n",
       "      <td>358.8</td>\n",
       "      <td>1686.8</td>\n",
       "      <td>0.0</td>\n",
       "    </tr>\n",
       "  </tbody>\n",
       "</table>\n",
       "</div>"
      ],
      "text/plain": [
       "   ntags estimador  total_collisions_slots  total_empty_slots  total_slots  \\\n",
       "0    100        lb                   108.6               72.6        281.2   \n",
       "1    200        lb                   273.2              137.2        610.4   \n",
       "2    300        lb                   450.0              214.0        964.0   \n",
       "3    400        lb                   618.0              282.0       1300.0   \n",
       "4    500        lb                   828.0              358.8       1686.8   \n",
       "\n",
       "   time  \n",
       "0   0.0  \n",
       "1   0.0  \n",
       "2   0.0  \n",
       "3   0.0  \n",
       "4   0.0  "
      ]
     },
     "execution_count": 15,
     "metadata": {},
     "output_type": "execute_result"
    }
   ],
   "source": [
    "import matplotlib.pyplot as plt\n",
    "import numpy as np\n",
    "import pandas as pd\n",
    "\n",
    "results_path = \"./out.csv\"\n",
    "\n",
    "df = pd.read_csv(results_path)\n",
    "df.head()"
   ]
  },
  {
   "cell_type": "code",
   "execution_count": 22,
   "id": "51236fab",
   "metadata": {},
   "outputs": [
    {
     "data": {
      "image/png": "[encoded data removed]",
      "text/plain": [
       "<Figure size 432x288 with 1 Axes>"
      ]
     },
     "metadata": {
      "needs_background": "light"
     },
     "output_type": "display_data"
    }
   ],
   "source": [
    "def plot_total_slots(df):\n",
    "    plt.plot(df['ntags'], df[df['estimador'] == 'lb']['total_slots'], marker='|')\n",
    "#     plt.plot(df['ntags'], df[df['estimador'] == 'shoute']['total_slots'], marker='o')\n",
    "#     plt.plot(df['ntags'], df[df['estimador'] == 'eom-lee']['total_slots'], marker='s')\n",
    "#     plt.plot(df['ntags'], df[df['estimador'] == 'iv2']['total_slots'], marker='^')\n",
    "    ax = plt.gca()\n",
    "    ax.set_ylim([0,3500])\n",
    "    plt.show()\n",
    "    \n",
    "plot_total_slots(df)\n",
    "\n",
    "def plot_total_collisions(df):\n",
    "    plt.plot(df['ntags'], df[df['estimador'] == 'lb']['total_collisions_slots'], marker='|')\n",
    "#     plt.plot(df['ntags'], df[df['estimador'] == 'shoute']['total_collisions_slots'], marker='o')\n",
    "#     plt.plot(df['ntags'], df[df['estimador'] == 'eom-lee']['total_collisions_slots'], marker='s')\n",
    "#     plt.plot(df['ntags'], df[df['estimador'] == 'iv2']['total_collisions_slots'], marker='^')\n",
    "    ax = plt.gca()\n",
    "    ax.set_ylim([0,3500])\n",
    "    plt.show()\n",
    "\n",
    "def plot_total_empty_slots(df):\n",
    "    plt.plot(df['ntags'], df[df['estimador'] == 'lb']['total_empty_slots'], marker='|')\n",
    "#     plt.plot(df['ntags'], df[df['estimador'] == 'shoute']['total_empty_slots'], marker='o')\n",
    "#     plt.plot(df['ntags'], df[df['estimador'] == 'eom-lee']['total_empty_slots'], marker='s')\n",
    "#     plt.plot(df['ntags'], df[df['estimador'] == 'iv2']['total_empty_slots'], marker='^')\n",
    "    ax = plt.gca()\n",
    "    ax.set_ylim([0,3500])\n",
    "    plt.show()\n",
    "\n",
    "def plot_total_time(df):\n",
    "    pass"
   ]
  },
  {
   "cell_type": "code",
   "execution_count": null,
   "id": "0d67c0c6",
   "metadata": {},
   "outputs": [],
   "source": []
  }
 ],
 "metadata": {
  "kernelspec": {
   "display_name": "Python 3",
   "language": "python",
   "name": "python3"
  },
  "language_info": {
   "codemirror_mode": {
    "name": "ipython",
    "version": 3
   },
   "file_extension": ".py",
   "mimetype": "text/x-python",
   "name": "python",
   "nbconvert_exporter": "python",
   "pygments_lexer": "ipython3",
   "version": "3.9.9"
  }
 },
 "nbformat": 4,
 "nbformat_minor": 5
}
